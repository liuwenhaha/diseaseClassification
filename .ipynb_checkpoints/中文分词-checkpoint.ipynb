{
 "cells": [
  {
   "cell_type": "code",
   "execution_count": 24,
   "metadata": {},
   "outputs": [
    {
     "name": "stdout",
     "output_type": "stream",
     "text": [
      "全模式： 好好 好好学 好学 学学 python  有用  \n",
      "精确模式（也是默认模式）： 好好 学学 python ， 有用 。\n",
      "搜索引擎模式： 好好 学学 python ， 有用 。\n"
     ]
    }
   ],
   "source": [
    "# -*- coding: UTF-8 -*-\n",
    "import numpy as np\n",
    "import pandas as pd\n",
    "import jieba\n",
    "import jieba.analyse\n",
    "import codecs\n",
    "import openpyxl as op\n",
    "import re\n",
    "from collections import Counter\n",
    "from sklearn.feature_extraction.text import TfidfVectorizer\n",
    "from sklearn.model_selection import train_test_split\n",
    "\n",
    "from sklearn.metrics import confusion_matrix\n",
    "from sklearn.metrics import accuracy_score\n",
    "\n",
    "from sklearn.linear_model import LogisticRegression\n",
    "from sklearn import tree\n",
    "from sklearn import svm\n",
    "from sklearn.naive_bayes import GaussianNB\n",
    "from sklearn.neighbors import KNeighborsClassifier\n",
    "\n",
    "%config IPCompleter.greedy=True\n",
    "\n",
    "seg1 = jieba.cut(\"好好学学python，有用。\", cut_all=True)\n",
    "print('全模式：', ' '.join(seg1))\n",
    "seg2 = jieba.cut(\"好好学学python，有用。\", cut_all=False)\n",
    "print(\"精确模式（也是默认模式）：\", ' '.join(seg2))\n",
    "seg3 = jieba.cut_for_search(\"好好学学python，有用。\")\n",
    "print(\"搜索引擎模式：\", ' '.join(seg3))"
   ]
  },
  {
   "cell_type": "code",
   "execution_count": 2,
   "metadata": {},
   "outputs": [
    {
     "data": {
      "text/plain": [
       "'Id'"
      ]
     },
     "execution_count": 2,
     "metadata": {},
     "output_type": "execute_result"
    }
   ],
   "source": [
    "# df=pd.read_excel('C:\\\\Users\\\\user\\\\Desktop\\\\大三上\\\\机器学习\\\\程序\\\\大作业\\\\rowdate.xlsx')\n",
    "# 打开excel文件,获取工作簿对象\n",
    "wb = op.load_workbook('rowdate.xlsx')\n",
    "ws = wb.active\n",
    "\n",
    "rows=[]\n",
    "for row in ws.iter_rows():\n",
    "    rows.append(row)\n",
    "rows[2][2].value\n",
    "\n",
    "\n",
    "cols=[]\n",
    "cols = []\n",
    "for col in ws.iter_cols():\n",
    "    cols.append(col)\n",
    " \n",
    "cols   #所有列\n",
    "cols[0]   #获取第一列\n",
    "cols[0][0]   #获取第一列的第一行的单元格对象\n",
    "cols[0][0].value   #获取第一列的第一行的值"
   ]
  },
  {
   "cell_type": "raw",
   "metadata": {},
   "source": []
  },
  {
   "cell_type": "code",
   "execution_count": 3,
   "metadata": {},
   "outputs": [
    {
     "name": "stdout",
     "output_type": "stream",
     "text": [
      " 胆汁反流性胃炎，胸口堵的疼，嗳气，呕吐怎么办？胆汁反流性胃炎，胸口堵的厉害，嗳气。倪主任您好，我今年三月查出胆汁反流，吃了两个多月中药和奥美拉错，莫沙必利，没有多大效果，之后改服铝碳酸镁片跟莫沙必利，现在感觉还是没有什么作用，主要症状就是整个食道到嗓子都堵着有灼烧感，堵的厉害整个胸前都疼，经常嗳气，前天夜里胃突然开始疼，之后开始吐，吐出来后疼痛才减轻一点，我的胆汁反流的症状是不是越来越严重了？\n"
     ]
    }
   ],
   "source": [
    "disTitle=\"\"          #所有数据的标题\n",
    "disDis=\"\"            #所有数据的疾病\n",
    "disDescr=\"\"          #所有数据的病情描述\n",
    "disTotal=\"\"          #所有数据的标题+疾病+病情描述\n",
    "personDate=[]        #个人数据组成的列表\n",
    "personType=[]        #个人数据的分类\n",
    "disCode={'胃炎':0,\n",
    "     '胃癌':1,\n",
    "     '肠胃炎':2,\n",
    "     '慢性胃炎':3,\n",
    "     '慢性前变性胃炎':4}\n",
    "\n",
    "for i in range(1,len(cols[5])):\n",
    "    person=\"\"\n",
    "    if cols[1][i].value != None:\n",
    "        disTitle += cols[1][i].value\n",
    "        disTotal += cols[1][i].value\n",
    "        person+=cols[1][i].value\n",
    "        \n",
    "    if cols[2][i].value != None:\n",
    "        disDis += cols[2][i].value\n",
    "        disTotal += cols[2][i].value\n",
    "        person+=cols[2][i].value\n",
    "        \n",
    "    if cols[3][i].value != None:\n",
    "        disDescr+= cols[3][i].value\n",
    "        disTotal+= cols[3][i].value\n",
    "        person+=cols[3][i].value\n",
    "#         print(person)\n",
    "    personDate.append(person)\n",
    "    personType.append(disCode[cols[4][i].value])\n",
    "# print(personDate)\n",
    "# print('\\n'*40)\n",
    "# print(disDis)\n",
    "# print('\\n'*40)\n",
    "# print(disDescr)\n",
    "print(personDate[0])"
   ]
  },
  {
   "cell_type": "code",
   "execution_count": 33,
   "metadata": {},
   "outputs": [],
   "source": [
    "# 创建停用词list\n",
    "def stopwordslist(filepath):\n",
    "    stopwords = [line.strip() for line in open(filepath, 'r', encoding='utf-8').readlines()]\n",
    "    return stopwords\n",
    "\n",
    "# 对句子进行分词\n",
    "def seg_sentence(sentence):\n",
    "    jieba.load_userdict('./dict.txt')\n",
    "#     jieba.analyse.set_stop_words(\"中文停用词表.txt\")\n",
    "#     jieba.analyse.set_idf_path(\"../extra_dict/idf.txt.big\");\n",
    "    sentence_seged = jieba.cut(sentence.strip())\n",
    "    stopwords = stopwordslist('./哈工大停用词表.txt')  # 这里加载停用词的路径\n",
    "    outstr = []\n",
    "    for word in sentence_seged:\n",
    "        if word not in stopwords:\n",
    "            if re.match(r'[\\u4e00-\\u9fa5][\\u4e00-\\u9fa5]+$',word,flags=0) and not re.match(r'(一)[\\u4e00-\\u9fa5]+$',word,flags=0):\n",
    "                outstr.append(word)\n",
    "    return outstr"
   ]
  },
  {
   "cell_type": "code",
   "execution_count": 34,
   "metadata": {
    "collapsed": true
   },
   "outputs": [
    {
     "data": {
      "text/plain": [
       "[('肠胃炎', 534),\n",
       " ('胃炎', 465),\n",
       " ('慢性胃炎', 342),\n",
       " ('胃癌', 318),\n",
       " ('慢性浅表性胃炎', 300),\n",
       " ('萎缩性', 234),\n",
       " ('慢性', 194),\n",
       " ('急性', 175),\n",
       " ('糜烂', 135),\n",
       " ('咨询', 74),\n",
       " ('患者', 68),\n",
       " ('胆汁反流', 67),\n",
       " ('浅表性', 60),\n",
       " ('胃镜', 55),\n",
       " ('胃窦', 52),\n",
       " ('术后', 52),\n",
       " ('诊后', 48),\n",
       " ('十二指肠', 47),\n",
       " ('转移', 47),\n",
       " ('食管炎', 43),\n",
       " ('手术', 41),\n",
       " ('息肉', 38),\n",
       " ('晚期', 38),\n",
       " ('溃疡', 35),\n",
       " ('是不是', 35),\n",
       " ('胆汁', 30),\n",
       " ('幽门螺杆菌', 30),\n",
       " ('反流性', 27),\n",
       " ('发烧', 27),\n",
       " ('是否', 25),\n",
       " ('糜烂性', 24),\n",
       " ('腹泻', 24),\n",
       " ('呕吐', 23),\n",
       " ('返流', 22),\n",
       " ('贲门', 22),\n",
       " ('诊断', 21),\n",
       " ('食管', 21),\n",
       " ('轻度', 20),\n",
       " ('反复', 20),\n",
       " ('中度', 20),\n",
       " ('化疗', 20),\n",
       " ('拉肚子', 19),\n",
       " ('消化不良', 18),\n",
       " ('幽门', 18),\n",
       " ('方案', 18),\n",
       " ('宝宝', 18),\n",
       " ('症状', 17),\n",
       " ('严重', 17),\n",
       " ('引起', 17),\n",
       " ('建议', 17)]"
      ]
     },
     "execution_count": 34,
     "metadata": {},
     "output_type": "execute_result"
    }
   ],
   "source": [
    "# 对‘标题’列分词\n",
    "segTitle = seg_sentence(disTitle)\n",
    "# print(segTitle)\n",
    "Counter(segTitle).most_common(50)"
   ]
  },
  {
   "cell_type": "code",
   "execution_count": 35,
   "metadata": {
    "collapsed": true
   },
   "outputs": [
    {
     "data": {
      "text/plain": [
       "[('胃炎', 443),\n",
       " ('肠胃炎', 270),\n",
       " ('慢性浅表性胃炎', 243),\n",
       " ('慢性胃炎', 218),\n",
       " ('萎缩性', 205),\n",
       " ('胃癌', 202),\n",
       " ('慢性', 191),\n",
       " ('糜烂', 138),\n",
       " ('急性', 119),\n",
       " ('胆汁反流', 70),\n",
       " ('浅表性', 68),\n",
       " ('十二指肠', 56),\n",
       " ('胃窦', 53),\n",
       " ('食管炎', 44),\n",
       " ('呕吐', 41),\n",
       " ('息肉', 39),\n",
       " ('腹泻', 39),\n",
       " ('溃疡', 37),\n",
       " ('胃病', 35),\n",
       " ('幽门螺杆菌', 33),\n",
       " ('拉肚子', 33),\n",
       " ('转移', 33),\n",
       " ('中度', 32),\n",
       " ('肚子', 32),\n",
       " ('胆汁', 31),\n",
       " ('发烧', 31),\n",
       " ('返流', 30),\n",
       " ('轻度', 29),\n",
       " ('糜烂性', 28),\n",
       " ('大便', 28),\n",
       " ('术后', 28),\n",
       " ('肠胃', 27),\n",
       " ('胃镜', 26),\n",
       " ('结肠炎', 25),\n",
       " ('反流性', 24),\n",
       " ('食管', 24),\n",
       " ('阳性', 23),\n",
       " ('胃部', 22),\n",
       " ('腹部', 22),\n",
       " ('恶心', 22),\n",
       " ('晚期', 22),\n",
       " ('增生', 21),\n",
       " ('幽门', 21),\n",
       " ('手术', 21),\n",
       " ('胃疼', 20),\n",
       " ('球部', 20),\n",
       " ('胃溃疡', 20),\n",
       " ('肠炎', 19),\n",
       " ('头晕', 19),\n",
       " ('胃胀', 18)]"
      ]
     },
     "execution_count": 35,
     "metadata": {},
     "output_type": "execute_result"
    }
   ],
   "source": [
    "# 对‘疾病’列分词\n",
    "segDis = seg_sentence(disDis)\n",
    "count = Counter(segDis)\n",
    "count.most_common(50)"
   ]
  },
  {
   "cell_type": "code",
   "execution_count": 37,
   "metadata": {
    "collapsed": true
   },
   "outputs": [
    {
     "data": {
      "text/plain": [
       "[('胃镜', 566),\n",
       " ('胃炎', 361),\n",
       " ('大便', 359),\n",
       " ('肚子', 250),\n",
       " ('症状', 246),\n",
       " ('难受', 237),\n",
       " ('舒服', 232),\n",
       " ('吃饭', 205),\n",
       " ('胃癌', 174),\n",
       " ('呕吐', 169),\n",
       " ('正常', 167),\n",
       " ('打嗝', 164),\n",
       " ('左右', 163),\n",
       " ('拉肚子', 162),\n",
       " ('胃胀', 160),\n",
       " ('腹部', 158),\n",
       " ('手术', 156),\n",
       " ('萎缩性', 152),\n",
       " ('肠胃炎', 148),\n",
       " ('严重', 140),\n",
       " ('慢性', 140),\n",
       " ('情况', 139),\n",
       " ('疼痛', 138),\n",
       " ('好转', 138),\n",
       " ('今天', 138),\n",
       " ('腹泻', 133),\n",
       " ('中药', 130),\n",
       " ('胃部', 130),\n",
       " ('不好', 129),\n",
       " ('恶心', 128),\n",
       " ('嗳气', 125),\n",
       " ('效果', 123),\n",
       " ('诊断', 123),\n",
       " ('服用', 121),\n",
       " ('伤害', 120),\n",
       " ('出现', 119),\n",
       " ('化疗', 112),\n",
       " ('慢性浅表性胃炎', 110),\n",
       " ('发烧', 103),\n",
       " ('糜烂', 100),\n",
       " ('几天', 100),\n",
       " ('已经', 100),\n",
       " ('问题', 99),\n",
       " ('胃痛', 98),\n",
       " ('知道', 97),\n",
       " ('之前', 96),\n",
       " ('之后', 95),\n",
       " ('有时候', 94),\n",
       " ('慢性胃炎', 93),\n",
       " ('后来', 92)]"
      ]
     },
     "execution_count": 37,
     "metadata": {},
     "output_type": "execute_result"
    }
   ],
   "source": [
    "# 对‘病情描述’列分词\n",
    "segDescr = seg_sentence(disDescr)\n",
    "count = Counter(segDescr)\n",
    "count.most_common(50)"
   ]
  },
  {
   "cell_type": "code",
   "execution_count": 8,
   "metadata": {
    "collapsed": true
   },
   "outputs": [
    {
     "name": "stdout",
     "output_type": "stream",
     "text": [
      "[('胃镜', 0.15775709129923643), ('胃炎', 0.09323850021480073), ('大便', 0.07826136009391423), ('感觉', 0.06878129198112283), ('医生', 0.06534525517215978), ('检查', 0.061269229108732226), ('医院', 0.05650867203206864), ('胃胀', 0.04758682237535299), ('难受', 0.045579178115033044), ('肠胃炎', 0.04554134491903665), ('打嗝', 0.045440219970348486), ('胃癌', 0.04482320735625376), ('肚子', 0.0442142995191453), ('治疗', 0.04374479114315041), ('舒服', 0.04373974031751452), ('萎缩性', 0.0431361581404967), ('拉肚子', 0.04284536561333116), ('症状', 0.04027658677847086), ('幽门', 0.03967455388707691), ('现在', 0.036821402099819746), ('嗳气', 0.03482403154948177), ('没有', 0.033665626380552774), ('胃部', 0.033490373808181456), ('呕吐', 0.03330428538832616), ('慢性浅表性胃炎', 0.033220989205435106), ('吃饭', 0.03307294549479271), ('有点', 0.03083443342083918), ('晚上', 0.030599278506560433), ('腹部', 0.02958630043052273), ('请问', 0.02899950886758587), ('有时', 0.028497277793200982), ('腹泻', 0.028402144751953986), ('化疗', 0.028064090317364312), ('早上', 0.027908540165236834), ('慢性胃炎', 0.0278338017667159), ('手术', 0.02770047723041458), ('螺杆菌', 0.0270786375194272), ('最近', 0.026422772724495544), ('胃疼', 0.026337360811516122), ('东西', 0.02593137070844032), ('慢性', 0.025717711903954284), ('胃痛', 0.025679342676121566), ('胀气', 0.025451289442364307), ('吃药', 0.025402983743933506), ('恶心', 0.025158242969725617), ('疼痛', 0.02447008054055077), ('反酸', 0.02430923140948578), ('中药', 0.023998651323573504), ('浅表性', 0.023643767092156518), ('胃窦', 0.02331627785609854)]\n"
     ]
    }
   ],
   "source": [
    "# segDescr = seg_sentence(''.join(segDescr))\n",
    "# count = Counter(segDescr)\n",
    "# count.most_common(50)\n",
    "# jieba.suggest_freq('慢性浅表性胃炎',True)\n",
    "# jieba.suggest_freq('慢性胃炎',True)\n",
    "# 病情描述列计算df-idf值并列出前50个\n",
    "key=jieba.analyse.extract_tags(''.join(segDescr),topK=50, withWeight=True)\n",
    "print(key)"
   ]
  },
  {
   "cell_type": "code",
   "execution_count": 38,
   "metadata": {
    "scrolled": true
   },
   "outputs": [
    {
     "name": "stdout",
     "output_type": "stream",
     "text": [
      "胆汁反流 胃炎 胸口 嗳气 呕吐 胆汁反流 胃炎 胸口 厉害 嗳气 您好 今年 三月 查出 胆汁反流 两个 多月 中药 奥美拉错 莫沙必利 多大 效果 之后 改服 铝碳酸镁片 莫沙必利 作用 主要症状 整个 食道 嗓子 灼烧 厉害 整个 胸前 嗳气 前天 夜里 突然 之后 吐出来 疼痛 减轻 胆汁反流 症状 是不是 越来越 严重\n"
     ]
    }
   ],
   "source": [
    "# 对个人数据进行单独分词\n",
    "segPersonDate=[]\n",
    "for i in range(0,len(personDate)):\n",
    "    segPerson = seg_sentence(personDate[i])\n",
    "    segPersonDate.append(' '.join(segPerson))\n",
    "print(segPersonDate[0])"
   ]
  },
  {
   "cell_type": "code",
   "execution_count": 41,
   "metadata": {},
   "outputs": [
    {
     "name": "stdout",
     "output_type": "stream",
     "text": [
      "['胆汁反流 胃炎 胸口 嗳气 呕吐 胆汁反流 胃炎 胸口 厉害 嗳气 您好 今年 三月 查出 胆汁反流 两个 多月 中药 奥美拉错 莫沙必利 多大 效果 之后 改服 铝碳酸镁片 莫沙必利 作用 主要症状 整个 食道 嗓子 灼烧 厉害 整个 胸前 嗳气 前天 夜里 突然 之后 吐出来 疼痛 减轻 胆汁反流 症状 是不是 越来越 严重', '慢性胃炎 嗳气 胃疼 嗳气 前查 幽门螺杆菌 后来 阿奇 霉素 阿莫西林 尿囊素 雷贝拉唑 胃疼 之前 还好 知道 是不是 刺激 胃粘膜 不是 床上 白天 还好 嗳气 胃病 小学 大学 雷贝拉唑 第五 效果 不是 特别 往年 中药 短时间 网上 预约 不到 周五 学校 请假 不能 加个', '胃窦 慢性 萎缩性 胃炎 胃窦 慢性 萎缩性 胃炎 胃痛 保定 五二 胃镜 病理 诊断 胃窦 慢性 萎缩性 胃炎 伴肠化 上皮 轻度 典型 增生 幽门螺杆菌 测试 测试 复查 幽门螺杆菌 测试', '混合 肠胃炎 咨询 混合 李医生 您好 月底 肠胃炎 大便 后来 发现 痔疮 脱出 越来越 鲜血 看后 混合 里面 糜烂 建议 痔疮 多年 比较严重']\n"
     ]
    }
   ],
   "source": [
    "# X_test = [' 胆汁反流性胃炎，胸口堵的疼，嗳气，呕吐怎么办','没有 你 的 旅行 都是 流浪']\n",
    "# #但可以设token_pattern=r\"(?u)\\b\\w+\\b\"，即不考虑停用词\n",
    "test=[]\n",
    "test.append(segPersonDate[0])\n",
    "test.append(segPersonDate[1])\n",
    "test.append(segPersonDate[2])\n",
    "test.append(segPersonDate[3])\n",
    "print(test)\n"
   ]
  },
  {
   "cell_type": "code",
   "execution_count": 39,
   "metadata": {
    "scrolled": true
   },
   "outputs": [
    {
     "name": "stdout",
     "output_type": "stream",
     "text": [
      "340\n",
      "['三个', '三天', '三次', '上吐下泻', '上腹', '下午', '下腹', '下降', '不了', '不会', '不吃', '不好', '不想', '不成形', '不是', '不知', '不能', '不见', '不适', '两个', '两周', '两天', '两年', '两次', '严重', '中医', '中午', '中度', '中药', '主要', '主要症状', '之前', '之后', '人体', '人民', '今天', '今年', '以前', '以后', '伤害', '伴有', '住院', '体检', '体重', '你好', '便秘', '做手术', '做过', '停药', '全身', '内科', '凌晨', '减轻', '几个', '几天', '几次', '出来', '出现', '出血', '出院', '分化腺癌', '切除', '刺激', '力气', '加重', '化疗', '化验', '十二指肠', '半个', '半夜', '半年', '卡中', '厉害', '厕所', '原因', '去年', '反反复复', '反复', '反流', '反流性', '反胃', '反酸', '发作', '发烧', '发现', '发病', '口服', '只能', '可能', '吃不下', '吃完饭', '吃点', '吃饭', '后来', '呕吐', '周围', '呼吸', '咨询', '咳嗽', '喉咙', '喝水', '喝酒', '嗓子', '嗳气', '基本', '增生', '复发', '复查', '多发', '多年', '多月', '多次', '大便', '大概', '失眠', '头孢', '头晕', '奥美拉唑', '好像', '好多', '好转', '妈妈', '孩子', '宝宝', '容易', '导致', '就诊', '左右', '已经', '希望', '帮助', '干呕', '平时', '幽门', '幽门螺杆菌', '应该', '建议', '引起', '当地', '当天', '当时', '很多', '急性', '总是', '恢复', '息肉', '恶心', '患有', '患者', '您好', '情况', '感冒', '感染', '慢性', '慢性浅表性胃炎', '慢性胃炎', '成型', '手术', '才能', '打嗝', '扩散', '报告', '担心', '拉稀', '拉肚子', '持续', '指标', '按压', '排便', '放屁', '效果', '方案', '方法', '无力', '无法', '早期', '时间', '星期', '昨天', '是不是', '是否', '显示', '晚期', '曾经', '有所', '有时候', '有没有', '服用', '服药', '期间', '本人', '术后', '查出', '次数', '正常', '每次', '没事', '没什么', '治愈', '注意', '活检', '浅表', '浅表性', '浑身', '消化', '消化不良', '消瘦', '液体', '淋巴结', '溃疡', '炎症', '烧心', '父亲', '特别', '现象', '球炎', '球部', '用药', '疼痛', '疾病', '病人', '病情', '病理', '症状', '白天', '目前', '看看', '睡眠', '睡觉', '知道', '确定', '确诊', '稍微', '突然', '第一次', '第二天', '粘液', '粘膜', '精神', '糜烂', '糜烂性', '结肠炎', '继续', '缓解', '老是', '肚子', '肚子疼', '肚脐', '肚脐眼', '肠化', '肠溶片', '肠炎', '肠胃', '肠胃炎', '肠镜', '肿瘤', '胀气', '胀痛', '胃体', '胃口', '胃溃疡', '胃炎', '胃疼', '胃病', '胃痛', '胃癌', '胃窦', '胃窦炎', '胃肠', '胃肠炎', '胃胀', '胃药', '胃部', '胃部不适', '胃酸', '胃里', '胃镜', '胆汁', '胆汁反流', '胶囊', '胸口', '胸闷', '腹泻', '腹痛', '腹胀', '腹部', '腺癌', '至今', '舒服', '药物', '莫沙必利', '萎缩', '萎缩性', '螺旋杆菌', '血常规', '西药', '规律', '觉得', '诊后', '诊断', '调理', '谢谢', '贲门', '起床', '起来', '身体', '转移', '轻度', '轻微', '输液', '近期', '返流', '这是', '这次', '这种', '进行', '进食', '连续', '退烧', '里面', '长期', '问题', '阳性', '阴性', '阿莫西林', '隆起', '隐痛', '隐隐', '难受', '雷贝拉唑', '霉素', '颗粒', '食欲', '食物', '食管', '食管炎', '食道', '饭后', '饮食', '麻烦']\n",
      "(1923, 340)\n"
     ]
    }
   ],
   "source": [
    "vectorizer = TfidfVectorizer(stop_words=stopwordslist('./tfidfstop.txt'), min_df=20)\n",
    "result=vectorizer.fit_transform(segPersonDate)\n",
    "print(len(vectorizer.get_feature_names()))\n",
    "print(vectorizer.get_feature_names())\n",
    "\n",
    "matrix = vectorizer.transform(segPersonDate)    # transform()会把每篇文档转换为向量；得到tf-idf矩阵；\n",
    "print(matrix.shape)"
   ]
  },
  {
   "cell_type": "code",
   "execution_count": 40,
   "metadata": {},
   "outputs": [
    {
     "name": "stdout",
     "output_type": "stream",
     "text": [
      "第 0 次迭代的分数是： 0.8285714285714286\n",
      "第 1 次迭代的分数是： 0.8363636363636363\n",
      "第 2 次迭代的分数是： 0.8675324675324675\n",
      "第 3 次迭代的分数是： 0.825974025974026\n",
      "第 4 次迭代的分数是： 0.825974025974026\n",
      "第 5 次迭代的分数是： 0.8077922077922078\n",
      "第 6 次迭代的分数是： 0.825974025974026\n",
      "第 7 次迭代的分数是： 0.8181818181818182\n",
      "第 8 次迭代的分数是： 0.8103896103896104\n",
      "第 9 次迭代的分数是： 0.8311688311688312\n",
      "逻辑回归平均分数为： 0.8277922077922077\n",
      "[2, 0, 2, 1, 4, 0, 4, 4, 0, 0]\n",
      "[2 0 2 1 4 0 4 4 2 3]\n"
     ]
    }
   ],
   "source": [
    "# 利用逻辑回归模型对数据进行预测\n",
    "logistic_model = LogisticRegression(multi_class = 'multinomial', solver='lbfgs')\n",
    "sum = 0;\n",
    "for i in range(0,10):\n",
    "    train_X, test_X, train_y, test_y = train_test_split(matrix, personType, test_size=0.2)\n",
    "    logistic_model.fit(train_X, train_y)\n",
    "    score = logistic_model.score(test_X, test_y)\n",
    "    print(\"第\", i, \"次迭代的分数是：\" , score)\n",
    "    sum += score\n",
    "print(\"逻辑回归平均分数为：\" , sum/10)\n",
    "print(test_y[:10])\n",
    "print(logistic_model.predict(test_X)[:10])"
   ]
  },
  {
   "cell_type": "code",
   "execution_count": 29,
   "metadata": {},
   "outputs": [
    {
     "name": "stdout",
     "output_type": "stream",
     "text": [
      "第 0 次迭代的分数是： 0.8025974025974026\n",
      "第 1 次迭代的分数是： 0.8155844155844156\n",
      "第 2 次迭代的分数是： 0.8389610389610389\n",
      "第 3 次迭代的分数是： 0.8467532467532467\n",
      "第 4 次迭代的分数是： 0.8103896103896104\n",
      "第 5 次迭代的分数是： 0.7792207792207793\n",
      "第 6 次迭代的分数是： 0.8571428571428571\n",
      "第 7 次迭代的分数是： 0.8285714285714286\n",
      "第 8 次迭代的分数是： 0.8155844155844156\n",
      "第 9 次迭代的分数是： 0.7948051948051948\n",
      "决策树平均分数为： 0.8189610389610389\n",
      "[2, 4, 0, 2, 0, 4, 4, 1, 4, 3]\n",
      "[2 4 4 2 4 4 4 1 4 3]\n"
     ]
    }
   ],
   "source": [
    "decision_tree_model = tree.DecisionTreeClassifier()\n",
    "sum = 0;\n",
    "for i in range(0,10):\n",
    "    train_X, test_X, train_y, test_y = train_test_split(matrix, personType, test_size=0.2)\n",
    "    decision_tree_model.fit(train_X, train_y)\n",
    "    score = decision_tree_model.score(test_X, test_y)\n",
    "    print(\"第\", i, \"次迭代的分数是：\" , score)\n",
    "    sum += score\n",
    "print(\"决策树平均分数为：\" , sum/10)\n",
    "print(test_y[:10])\n",
    "print(decision_tree_model.predict(test_X)[:10])"
   ]
  },
  {
   "cell_type": "code",
   "execution_count": 23,
   "metadata": {},
   "outputs": [
    {
     "name": "stdout",
     "output_type": "stream",
     "text": [
      "第 0 次迭代的分数是： 0.8467532467532467\n",
      "第 1 次迭代的分数是： 0.8103896103896104\n",
      "第 2 次迭代的分数是： 0.8467532467532467\n",
      "第 3 次迭代的分数是： 0.8155844155844156\n",
      "第 4 次迭代的分数是： 0.8155844155844156\n",
      "第 5 次迭代的分数是： 0.7974025974025974\n",
      "第 6 次迭代的分数是： 0.825974025974026\n",
      "第 7 次迭代的分数是： 0.8311688311688312\n",
      "第 8 次迭代的分数是： 0.8441558441558441\n",
      "第 9 次迭代的分数是： 0.8415584415584415\n",
      "SVM平均分数为： 0.8275324675324678\n",
      "[2, 4, 4, 1, 2, 4, 2, 2, 1, 0]\n",
      "[2 4 4 0 2 4 2 2 1 3]\n"
     ]
    }
   ],
   "source": [
    "# 利用SVM对模型进行训练和预测\n",
    "svm_model = svm.SVC(C=2, kernel='linear', decision_function_shape='ovr')\n",
    "sum = 0;\n",
    "for i in range(0,10):\n",
    "    train_X, test_X, train_y, test_y = train_test_split(matrix, personType, test_size=0.2)\n",
    "    svm_model.fit(train_X, train_y)\n",
    "    score = svm_model.score(test_X, test_y)\n",
    "    print(\"第\", i, \"次迭代的分数是：\" , score)\n",
    "    sum += score\n",
    "print(\"SVM平均分数为：\" , sum/10)\n",
    "print(test_y[:10])\n",
    "print(svm_model.predict(test_X)[:10])"
   ]
  },
  {
   "cell_type": "code",
   "execution_count": 26,
   "metadata": {},
   "outputs": [
    {
     "ename": "AttributeError",
     "evalue": "to_array not found",
     "output_type": "error",
     "traceback": [
      "\u001b[1;31m---------------------------------------------------------------------------\u001b[0m",
      "\u001b[1;31mAttributeError\u001b[0m                            Traceback (most recent call last)",
      "\u001b[1;32m<ipython-input-26-6e67f3034d0e>\u001b[0m in \u001b[0;36m<module>\u001b[1;34m\u001b[0m\n\u001b[0;32m      4\u001b[0m \u001b[1;32mfor\u001b[0m \u001b[0mi\u001b[0m \u001b[1;32min\u001b[0m \u001b[0mrange\u001b[0m\u001b[1;33m(\u001b[0m\u001b[1;36m0\u001b[0m\u001b[1;33m,\u001b[0m\u001b[1;36m10\u001b[0m\u001b[1;33m)\u001b[0m\u001b[1;33m:\u001b[0m\u001b[1;33m\u001b[0m\u001b[1;33m\u001b[0m\u001b[0m\n\u001b[0;32m      5\u001b[0m     \u001b[0mtrain_X\u001b[0m\u001b[1;33m,\u001b[0m \u001b[0mtest_X\u001b[0m\u001b[1;33m,\u001b[0m \u001b[0mtrain_y\u001b[0m\u001b[1;33m,\u001b[0m \u001b[0mtest_y\u001b[0m \u001b[1;33m=\u001b[0m \u001b[0mtrain_test_split\u001b[0m\u001b[1;33m(\u001b[0m\u001b[0mmatrix\u001b[0m\u001b[1;33m,\u001b[0m \u001b[0mpersonType\u001b[0m\u001b[1;33m,\u001b[0m \u001b[0mtest_size\u001b[0m\u001b[1;33m=\u001b[0m\u001b[1;36m0.2\u001b[0m\u001b[1;33m)\u001b[0m\u001b[1;33m\u001b[0m\u001b[1;33m\u001b[0m\u001b[0m\n\u001b[1;32m----> 6\u001b[1;33m     \u001b[0mbys_model\u001b[0m\u001b[1;33m.\u001b[0m\u001b[0mfit\u001b[0m\u001b[1;33m(\u001b[0m\u001b[0mtrain_X\u001b[0m\u001b[1;33m.\u001b[0m\u001b[0mto_array\u001b[0m\u001b[1;33m(\u001b[0m\u001b[1;33m)\u001b[0m\u001b[1;33m,\u001b[0m \u001b[0mtrain_y\u001b[0m\u001b[1;33m)\u001b[0m\u001b[1;33m\u001b[0m\u001b[1;33m\u001b[0m\u001b[0m\n\u001b[0m\u001b[0;32m      7\u001b[0m     \u001b[0mscore\u001b[0m \u001b[1;33m=\u001b[0m \u001b[0mbys_model\u001b[0m\u001b[1;33m.\u001b[0m\u001b[0mscore\u001b[0m\u001b[1;33m(\u001b[0m\u001b[0mtest_X\u001b[0m\u001b[1;33m,\u001b[0m \u001b[0mtest_y\u001b[0m\u001b[1;33m)\u001b[0m\u001b[1;33m\u001b[0m\u001b[1;33m\u001b[0m\u001b[0m\n\u001b[0;32m      8\u001b[0m     \u001b[0mprint\u001b[0m\u001b[1;33m(\u001b[0m\u001b[1;34m\"第\"\u001b[0m\u001b[1;33m,\u001b[0m \u001b[0mi\u001b[0m\u001b[1;33m,\u001b[0m \u001b[1;34m\"次迭代的分数是：\"\u001b[0m \u001b[1;33m,\u001b[0m \u001b[0mscore\u001b[0m\u001b[1;33m)\u001b[0m\u001b[1;33m\u001b[0m\u001b[1;33m\u001b[0m\u001b[0m\n",
      "\u001b[1;32mD:\\ProgramData\\Anaconda3\\lib\\site-packages\\scipy\\sparse\\base.py\u001b[0m in \u001b[0;36m__getattr__\u001b[1;34m(self, attr)\u001b[0m\n\u001b[0;32m    686\u001b[0m             \u001b[1;32mreturn\u001b[0m \u001b[0mself\u001b[0m\u001b[1;33m.\u001b[0m\u001b[0mgetnnz\u001b[0m\u001b[1;33m(\u001b[0m\u001b[1;33m)\u001b[0m\u001b[1;33m\u001b[0m\u001b[1;33m\u001b[0m\u001b[0m\n\u001b[0;32m    687\u001b[0m         \u001b[1;32melse\u001b[0m\u001b[1;33m:\u001b[0m\u001b[1;33m\u001b[0m\u001b[1;33m\u001b[0m\u001b[0m\n\u001b[1;32m--> 688\u001b[1;33m             \u001b[1;32mraise\u001b[0m \u001b[0mAttributeError\u001b[0m\u001b[1;33m(\u001b[0m\u001b[0mattr\u001b[0m \u001b[1;33m+\u001b[0m \u001b[1;34m\" not found\"\u001b[0m\u001b[1;33m)\u001b[0m\u001b[1;33m\u001b[0m\u001b[1;33m\u001b[0m\u001b[0m\n\u001b[0m\u001b[0;32m    689\u001b[0m \u001b[1;33m\u001b[0m\u001b[0m\n\u001b[0;32m    690\u001b[0m     \u001b[1;32mdef\u001b[0m \u001b[0mtranspose\u001b[0m\u001b[1;33m(\u001b[0m\u001b[0mself\u001b[0m\u001b[1;33m,\u001b[0m \u001b[0maxes\u001b[0m\u001b[1;33m=\u001b[0m\u001b[1;32mNone\u001b[0m\u001b[1;33m,\u001b[0m \u001b[0mcopy\u001b[0m\u001b[1;33m=\u001b[0m\u001b[1;32mFalse\u001b[0m\u001b[1;33m)\u001b[0m\u001b[1;33m:\u001b[0m\u001b[1;33m\u001b[0m\u001b[1;33m\u001b[0m\u001b[0m\n",
      "\u001b[1;31mAttributeError\u001b[0m: to_array not found"
     ]
    }
   ],
   "source": [
    "# 利用SVM对模型进行训练和预测\n",
    "bys_model = GaussianNB()\n",
    "sum = 0;\n",
    "for i in range(0,10):\n",
    "    train_X, test_X, train_y, test_y = train_test_split(matrix, personType, test_size=0.2)\n",
    "    bys_model.fit(train_X), train_y)\n",
    "    score = bys_model.score(test_X, test_y)\n",
    "    print(\"第\", i, \"次迭代的分数是：\" , score)\n",
    "    sum += score\n",
    "print(\"SVM平均分数为：\" , sum/10)\n",
    "print(test_y[:10])\n",
    "print(bys_model.predict(test_X)[:10])"
   ]
  },
  {
   "cell_type": "code",
   "execution_count": null,
   "metadata": {},
   "outputs": [],
   "source": []
  }
 ],
 "metadata": {
  "kernelspec": {
   "display_name": "Python 3",
   "language": "python",
   "name": "python3"
  },
  "language_info": {
   "codemirror_mode": {
    "name": "ipython",
    "version": 3
   },
   "file_extension": ".py",
   "mimetype": "text/x-python",
   "name": "python",
   "nbconvert_exporter": "python",
   "pygments_lexer": "ipython3",
   "version": "3.7.4"
  }
 },
 "nbformat": 4,
 "nbformat_minor": 4
}
